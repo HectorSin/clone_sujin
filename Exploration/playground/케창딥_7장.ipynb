{
 "cells": [
  {
   "cell_type": "markdown",
   "id": "287f2300",
   "metadata": {},
   "source": [
    "sequential model"
   ]
  },
  {
   "cell_type": "code",
   "execution_count": 60,
   "id": "5ba3399a",
   "metadata": {},
   "outputs": [],
   "source": [
    "#sequential class\n",
    "from tensorflow import keras\n",
    "from tensorflow.keras import layers\n",
    "\n",
    "model = keras.Sequential([\n",
    "    layers.Dense(64, activation='relu'),\n",
    "    layers.Dense(10, activation='softmax')\n",
    "])"
   ]
  },
  {
   "cell_type": "code",
   "execution_count": 61,
   "id": "8854258f",
   "metadata": {},
   "outputs": [],
   "source": [
    "#점진적으로 sequential model\n",
    "model = keras.Sequential()\n",
    "model.add(layers.Dense(64, activation='relu'))\n",
    "model.add(layers.Dense(10, activation='softmax'))"
   ]
  },
  {
   "cell_type": "code",
   "execution_count": 63,
   "id": "a9e07b25",
   "metadata": {},
   "outputs": [],
   "source": [
    "#model.weights #아직 모델의 build()메서드 호출 전"
   ]
  },
  {
   "cell_type": "markdown",
   "id": "e8549904",
   "metadata": {},
   "source": [
    "층은 처음 호출될 때 만들어진다.\n",
    "\n",
    "층의 가중치 크기가 입력 크기에 따라 달라지기에 입력 크기를 알기 전까지 가중치 만들 수 없다.\n",
    "\n",
    "가중치 생성 ~ 어떤 데이터 호출 / 입력 크기를 지정하여 build()메서드 호출"
   ]
  },
  {
   "cell_type": "code",
   "execution_count": 64,
   "id": "8cdf445a",
   "metadata": {},
   "outputs": [],
   "source": [
    "model.build(input_shape=(None,3))"
   ]
  },
  {
   "cell_type": "code",
   "execution_count": 65,
   "id": "d061d9ce",
   "metadata": {},
   "outputs": [
    {
     "data": {
      "text/plain": [
       "[<tf.Variable 'dense_29/kernel:0' shape=(3, 64) dtype=float32, numpy=\n",
       " array([[ 0.1979217 ,  0.12396201, -0.28074   , -0.29057097,  0.29532248,\n",
       "         -0.06951208,  0.14986   ,  0.00975868, -0.15474445, -0.17555669,\n",
       "         -0.08392477, -0.2858868 , -0.23019063,  0.20740825,  0.03164858,\n",
       "          0.01356936,  0.0661166 ,  0.17736793, -0.07457434,  0.06350398,\n",
       "          0.20004907,  0.18756783,  0.16351047, -0.13504028,  0.23843312,\n",
       "          0.18538624,  0.21643573, -0.08065356,  0.19338185, -0.07295774,\n",
       "          0.26978487,  0.11488768, -0.11971186,  0.13288823,  0.09120563,\n",
       "         -0.19547455, -0.253691  ,  0.06011522,  0.18214378,  0.14392367,\n",
       "          0.15660903,  0.02775323,  0.04188928, -0.26961437,  0.06234309,\n",
       "          0.2561339 , -0.2704672 , -0.02567902, -0.11255328,  0.10101256,\n",
       "          0.20694894, -0.22796252,  0.29158765,  0.09145755,  0.26757896,\n",
       "          0.22167069, -0.2570284 , -0.07715483,  0.2562486 ,  0.27174217,\n",
       "         -0.03295416,  0.00389171,  0.05207971, -0.04281259],\n",
       "        [-0.06262285, -0.12591295,  0.08287516,  0.12381282,  0.17942044,\n",
       "         -0.07452874,  0.17466143,  0.13012108,  0.08010677,  0.21246547,\n",
       "          0.22187966,  0.28977317,  0.18978295, -0.08969007,  0.00303641,\n",
       "         -0.19417903, -0.06893261,  0.04376951,  0.07253844,  0.25291485,\n",
       "         -0.11971471, -0.25277454,  0.07315224,  0.2263664 ,  0.23695254,\n",
       "         -0.07309116,  0.15817246, -0.04310134,  0.09179497,  0.03548378,\n",
       "          0.21218199,  0.0996384 ,  0.00532886, -0.06218649,  0.17463303,\n",
       "         -0.15504453, -0.173668  ,  0.21543223, -0.01284188,  0.23792237,\n",
       "         -0.15310515,  0.05074999,  0.14384791, -0.06666961,  0.27445912,\n",
       "          0.19431022, -0.08290143, -0.04596457, -0.05038413, -0.00122911,\n",
       "          0.01855391,  0.16519207,  0.16155156, -0.24453503,  0.22360784,\n",
       "          0.13707334, -0.0281716 ,  0.22854316,  0.10760206, -0.27020243,\n",
       "         -0.08450061, -0.19150129,  0.2212643 ,  0.13877454],\n",
       "        [ 0.15753734,  0.1316283 , -0.19980134,  0.2876271 , -0.01012334,\n",
       "          0.24481893,  0.01823041,  0.04197106,  0.24077356,  0.24626094,\n",
       "         -0.2819738 , -0.06793937, -0.00430518,  0.20687342, -0.09429327,\n",
       "          0.21539217,  0.11332327, -0.14326699, -0.28097346,  0.2927078 ,\n",
       "         -0.17157416, -0.05836448, -0.22711015, -0.23931518, -0.24175984,\n",
       "          0.2334289 ,  0.17666665,  0.15630153, -0.20928705,  0.04223955,\n",
       "         -0.16309465,  0.2820974 , -0.00111789, -0.28945145,  0.25210816,\n",
       "          0.2436651 , -0.29859892,  0.24440992,  0.09352058, -0.2152741 ,\n",
       "         -0.05861591, -0.02933449,  0.23111075,  0.10326192,  0.0544931 ,\n",
       "         -0.23684841, -0.20622332,  0.27560598, -0.25941718, -0.05069585,\n",
       "          0.15844232, -0.2039848 ,  0.19352442, -0.2905246 , -0.26393533,\n",
       "          0.24544811,  0.05156615, -0.0492211 , -0.08677153, -0.12772581,\n",
       "          0.24728197, -0.21279591, -0.14794283,  0.13135034]],\n",
       "       dtype=float32)>,\n",
       " <tf.Variable 'dense_29/bias:0' shape=(64,) dtype=float32, numpy=\n",
       " array([0., 0., 0., 0., 0., 0., 0., 0., 0., 0., 0., 0., 0., 0., 0., 0., 0.,\n",
       "        0., 0., 0., 0., 0., 0., 0., 0., 0., 0., 0., 0., 0., 0., 0., 0., 0.,\n",
       "        0., 0., 0., 0., 0., 0., 0., 0., 0., 0., 0., 0., 0., 0., 0., 0., 0.,\n",
       "        0., 0., 0., 0., 0., 0., 0., 0., 0., 0., 0., 0., 0.], dtype=float32)>,\n",
       " <tf.Variable 'dense_30/kernel:0' shape=(64, 10) dtype=float32, numpy=\n",
       " array([[ 0.10543966, -0.16589536,  0.2844645 ,  0.25475922,  0.00680792,\n",
       "          0.25880495,  0.27838877, -0.06528865,  0.01517272,  0.12661114],\n",
       "        [-0.13248415, -0.24305922, -0.10698903,  0.24725243, -0.06227824,\n",
       "         -0.15820645,  0.10721692, -0.19923581, -0.16238889, -0.16288577],\n",
       "        [ 0.28091684,  0.27893987, -0.02927411, -0.11989006, -0.02392396,\n",
       "          0.24341902, -0.09702447,  0.13143012,  0.2509052 ,  0.08760446],\n",
       "        [-0.00674057,  0.06333447,  0.22023651, -0.11133197, -0.14344159,\n",
       "          0.16261068,  0.26577923, -0.02809405,  0.19172266,  0.03922713],\n",
       "        [ 0.02291909,  0.07227096, -0.27074933,  0.19177169,  0.03761402,\n",
       "         -0.19584456,  0.108069  ,  0.08076811, -0.1248184 , -0.20412472],\n",
       "        [-0.12264113,  0.00140423, -0.22989438, -0.17988071, -0.01736635,\n",
       "          0.11135945, -0.24256954,  0.1651327 ,  0.24011555,  0.27657458],\n",
       "        [-0.0185397 , -0.22752315, -0.11442634,  0.01449269, -0.08550581,\n",
       "          0.26327702, -0.23678792,  0.09142357,  0.27635625,  0.24867478],\n",
       "        [-0.24478143, -0.28225648, -0.14250085,  0.23780063, -0.2601584 ,\n",
       "          0.10962591,  0.03761312, -0.17947249,  0.22321531, -0.12574631],\n",
       "        [-0.2485831 ,  0.15410635,  0.12489343, -0.22621581,  0.2711787 ,\n",
       "          0.27160016,  0.14205176,  0.19471493,  0.14844427,  0.00974262],\n",
       "        [ 0.27367684, -0.11321005,  0.19126734, -0.13492382, -0.08586745,\n",
       "         -0.13685493,  0.22481403,  0.12878162,  0.24101189, -0.0400701 ],\n",
       "        [-0.03210548,  0.02513945, -0.04394372, -0.07914568, -0.09440838,\n",
       "          0.08195943, -0.14350697, -0.08028147, -0.04898781,  0.24051026],\n",
       "        [-0.27541244,  0.01781654,  0.22077808, -0.11742616, -0.00765157,\n",
       "         -0.0162136 , -0.27285492, -0.05846356,  0.15104687,  0.19624713],\n",
       "        [-0.00205392, -0.2485556 , -0.12578134,  0.14730728, -0.19441237,\n",
       "         -0.13859437, -0.03410202,  0.03485104,  0.19706607, -0.11693302],\n",
       "        [-0.16587567,  0.00437981, -0.21965516, -0.21461338, -0.12281981,\n",
       "         -0.14575383,  0.07826856, -0.07669333, -0.20690674,  0.26350036],\n",
       "        [-0.01129544, -0.24791703, -0.0919385 ,  0.11655813, -0.01824641,\n",
       "         -0.08550119,  0.25692555, -0.07090592, -0.02101535,  0.02022117],\n",
       "        [ 0.0271574 ,  0.2306849 ,  0.10006896,  0.2580466 ,  0.09232321,\n",
       "          0.11598018, -0.15437669, -0.08199641,  0.07669076, -0.2107225 ],\n",
       "        [-0.11170115, -0.06644303,  0.22410533,  0.11639675,  0.08198303,\n",
       "         -0.22148225,  0.18092164, -0.13121694,  0.03190303, -0.17600092],\n",
       "        [ 0.17726094, -0.23660447,  0.05531466,  0.04243371, -0.06231545,\n",
       "         -0.13964109, -0.05391994, -0.11611433, -0.20371935, -0.21087798],\n",
       "        [ 0.15978664, -0.08794349,  0.22642389, -0.11026855, -0.11663091,\n",
       "         -0.0012565 , -0.04780103, -0.23473983, -0.02383858, -0.01836228],\n",
       "        [ 0.05274966, -0.28141025,  0.14792043, -0.14404683, -0.18509513,\n",
       "         -0.04082964,  0.21320671,  0.09281883, -0.22052068,  0.0189302 ],\n",
       "        [-0.07013056, -0.05023696,  0.00949746, -0.28008917,  0.17885152,\n",
       "          0.1341444 ,  0.06664413,  0.12356097,  0.10748658, -0.1729582 ],\n",
       "        [-0.1525929 ,  0.11350945, -0.24393669, -0.05669925, -0.18004228,\n",
       "          0.26193246, -0.25894615, -0.16564077,  0.22600994,  0.06730983],\n",
       "        [-0.21912113,  0.00144589, -0.05252856,  0.14206141,  0.12389356,\n",
       "          0.17652816, -0.21104735, -0.26494455,  0.1107257 ,  0.01833928],\n",
       "        [ 0.24973872,  0.20612037,  0.19980446,  0.21818265, -0.15330505,\n",
       "          0.1504075 , -0.25977066,  0.15733618, -0.18984288,  0.27082363],\n",
       "        [-0.07966775, -0.24024862, -0.14514601,  0.26625958,  0.11453748,\n",
       "          0.13489407, -0.09403993, -0.0600138 ,  0.16656074,  0.02611318],\n",
       "        [-0.23517486,  0.23868737,  0.13168266,  0.10065898, -0.14969838,\n",
       "          0.10592622, -0.20434861,  0.28052232, -0.14234626, -0.16947868],\n",
       "        [-0.16690147,  0.01596534,  0.20686892,  0.23362377, -0.19314256,\n",
       "          0.21658584,  0.17734036, -0.08894107, -0.28307176, -0.14636524],\n",
       "        [-0.24849659,  0.18811429,  0.13769343,  0.12845215,  0.03077811,\n",
       "          0.22314057,  0.26202497,  0.02540606, -0.12961279,  0.10130134],\n",
       "        [ 0.21477705,  0.1641739 , -0.15678546,  0.10676154, -0.16665307,\n",
       "          0.16076389,  0.21619073, -0.23642558, -0.12132102, -0.23937665],\n",
       "        [-0.11391079,  0.11012918,  0.0703465 ,  0.23612133,  0.1301297 ,\n",
       "          0.08457837,  0.11151987,  0.02510273,  0.09799507,  0.10273287],\n",
       "        [-0.05806376, -0.11407414,  0.18578666,  0.14505586,  0.10758951,\n",
       "          0.10417089, -0.13059956,  0.03443781,  0.07374179, -0.10285106],\n",
       "        [-0.17440471,  0.23797837, -0.12723993, -0.02355179,  0.11435106,\n",
       "         -0.15022853,  0.13433841,  0.2325348 , -0.2555246 ,  0.14372984],\n",
       "        [ 0.17289263, -0.21608642, -0.12181105, -0.11723566,  0.08102363,\n",
       "         -0.25372934,  0.13718629, -0.1616102 , -0.04359604, -0.01756799],\n",
       "        [-0.04079129,  0.2205855 ,  0.1673401 ,  0.21120033, -0.10407035,\n",
       "         -0.19002219,  0.00938463,  0.25785223,  0.2587221 , -0.00283647],\n",
       "        [-0.01339582, -0.23825872, -0.14537738, -0.03777395, -0.04990348,\n",
       "          0.00349662, -0.11455899, -0.2583293 , -0.19891416,  0.03172776],\n",
       "        [-0.1334638 , -0.03083006, -0.03879549,  0.02103767, -0.19473389,\n",
       "          0.26388445, -0.07645884,  0.00638613, -0.18589622, -0.23760659],\n",
       "        [-0.03272083,  0.23767093,  0.2471554 ,  0.03703627,  0.16127339,\n",
       "          0.10613757, -0.27153116,  0.15721059, -0.18832693, -0.22764121],\n",
       "        [ 0.06473169, -0.01604152, -0.06276216,  0.24583146,  0.11217549,\n",
       "         -0.12914348,  0.13720131,  0.20831463, -0.25761363,  0.257436  ],\n",
       "        [-0.22443114,  0.06660727, -0.06896837,  0.09559995, -0.20829514,\n",
       "          0.06317031,  0.06775105, -0.26602203, -0.24266914,  0.02805537],\n",
       "        [ 0.23193982, -0.03093508,  0.07730895, -0.01066104, -0.10799202,\n",
       "         -0.20914829, -0.16057163, -0.0749997 ,  0.22689375,  0.12689152],\n",
       "        [ 0.0379608 , -0.06074347,  0.04352877,  0.21354133, -0.17692006,\n",
       "         -0.0073452 , -0.15442842, -0.2191394 ,  0.10852984,  0.20465663],\n",
       "        [-0.2078009 ,  0.05490229, -0.2500985 ,  0.24702796, -0.20084235,\n",
       "          0.01865891,  0.13775113, -0.25569427,  0.1226998 ,  0.23943803],\n",
       "        [ 0.11390665,  0.02331182, -0.0594715 ,  0.13076907, -0.12414107,\n",
       "          0.28234366,  0.11921102,  0.26939896, -0.08359826,  0.1225934 ],\n",
       "        [-0.19429207,  0.21012855, -0.15122996,  0.17936134, -0.13942486,\n",
       "         -0.01708904, -0.10970968, -0.1786581 ,  0.04005626,  0.21336517],\n",
       "        [ 0.18039462, -0.06607881, -0.1911501 , -0.22846667,  0.22052881,\n",
       "          0.23408118, -0.0015747 ,  0.14455238,  0.15796164,  0.07883888],\n",
       "        [ 0.08652347, -0.25506866, -0.00720656,  0.04234579,  0.23235962,\n",
       "          0.22137877, -0.13297723,  0.10860071,  0.00471252, -0.18928105],\n",
       "        [-0.26128486, -0.27843085, -0.03280392, -0.06985989, -0.1954715 ,\n",
       "         -0.1381683 , -0.2298525 , -0.1796099 , -0.17364421,  0.18017969],\n",
       "        [ 0.27231547, -0.24538341, -0.12868665, -0.11303422,  0.07339719,\n",
       "         -0.21465573, -0.10893765,  0.20476165,  0.17225927, -0.26058567],\n",
       "        [-0.14306562,  0.10114121, -0.03557305, -0.12804048,  0.05174416,\n",
       "          0.00373676,  0.23227754, -0.0890027 , -0.09252438,  0.00665328],\n",
       "        [-0.1552234 ,  0.19067419, -0.06693502,  0.10676023,  0.13021836,\n",
       "         -0.15670705, -0.26474735,  0.04934081, -0.02201325, -0.18130428],\n",
       "        [-0.07466501,  0.19226211, -0.25949824,  0.1772367 ,  0.08859754,\n",
       "          0.02312547, -0.10932435,  0.08226201, -0.09020916,  0.19325066],\n",
       "        [ 0.01703534,  0.17827514, -0.05981223,  0.2337862 , -0.20795386,\n",
       "          0.25158462,  0.16816759, -0.05450651, -0.1440811 , -0.09524633],\n",
       "        [ 0.0339742 ,  0.17417192, -0.12084594,  0.02827308,  0.26950893,\n",
       "          0.24024972, -0.2065064 ,  0.04917023,  0.06155971,  0.26835766],\n",
       "        [ 0.01934621,  0.22469333, -0.24332501,  0.04049584, -0.24582103,\n",
       "         -0.18137631,  0.05257589, -0.17835727, -0.10052823,  0.14674053],\n",
       "        [ 0.07304028,  0.17102513,  0.08727956, -0.1628542 ,  0.12461594,\n",
       "         -0.17218882,  0.17060271, -0.16934942,  0.2845358 ,  0.10288066],\n",
       "        [-0.1336951 , -0.18450823,  0.07116941, -0.13422985, -0.16570024,\n",
       "          0.2566547 , -0.12655602, -0.09580499, -0.2395941 ,  0.06078795],\n",
       "        [ 0.2248297 ,  0.08741382,  0.01089734,  0.20913133, -0.0142681 ,\n",
       "         -0.24208088, -0.25240755,  0.02595142, -0.24523582, -0.25990576],\n",
       "        [ 0.26401922, -0.07473446, -0.05164939, -0.19674036,  0.1253488 ,\n",
       "          0.07450846, -0.12971558,  0.09925672, -0.19925687, -0.2708154 ],\n",
       "        [-0.12640917,  0.24366769, -0.08666901,  0.07535219, -0.2051846 ,\n",
       "          0.2824287 , -0.08605672, -0.16417553,  0.22062007,  0.00137237],\n",
       "        [ 0.02688101, -0.14279033, -0.27068016,  0.25857463, -0.18051207,\n",
       "          0.1503743 ,  0.08211938, -0.17942491,  0.0781841 ,  0.08605665],\n",
       "        [-0.11695935, -0.25426275, -0.10218656, -0.17806244, -0.19858646,\n",
       "          0.06525728,  0.22756526,  0.01401842, -0.1711345 ,  0.23267016],\n",
       "        [-0.25747383, -0.10591957,  0.2413095 ,  0.17010435,  0.06485036,\n",
       "         -0.17965728, -0.04109603, -0.02130285,  0.11397204,  0.14803374],\n",
       "        [-0.04250093,  0.2389861 ,  0.07360247, -0.2794782 ,  0.24726543,\n",
       "          0.01944113, -0.00512779,  0.14211294, -0.11803377, -0.05112475],\n",
       "        [-0.06883788, -0.0227302 , -0.06648567,  0.07763427,  0.22043958,\n",
       "         -0.20994762,  0.18351215, -0.01990345,  0.05960268,  0.17792454]],\n",
       "       dtype=float32)>,\n",
       " <tf.Variable 'dense_30/bias:0' shape=(10,) dtype=float32, numpy=array([0., 0., 0., 0., 0., 0., 0., 0., 0., 0.], dtype=float32)>]"
      ]
     },
     "execution_count": 65,
     "metadata": {},
     "output_type": "execute_result"
    }
   ],
   "source": [
    "model.weights"
   ]
  },
  {
   "cell_type": "code",
   "execution_count": 66,
   "id": "cd811728",
   "metadata": {},
   "outputs": [
    {
     "name": "stdout",
     "output_type": "stream",
     "text": [
      "Model: \"sequential_4\"\n",
      "_________________________________________________________________\n",
      " Layer (type)                Output Shape              Param #   \n",
      "=================================================================\n",
      " dense_29 (Dense)            (None, 64)                256       \n",
      "                                                                 \n",
      " dense_30 (Dense)            (None, 10)                650       \n",
      "                                                                 \n",
      "=================================================================\n",
      "Total params: 906\n",
      "Trainable params: 906\n",
      "Non-trainable params: 0\n",
      "_________________________________________________________________\n"
     ]
    }
   ],
   "source": [
    "model.summary()"
   ]
  },
  {
   "cell_type": "markdown",
   "id": "88c9af59",
   "metadata": {},
   "source": [
    "---"
   ]
  },
  {
   "cell_type": "code",
   "execution_count": 67,
   "id": "55b1a5b3",
   "metadata": {},
   "outputs": [
    {
     "name": "stdout",
     "output_type": "stream",
     "text": [
      "Model: \"my_example_model\"\n",
      "_________________________________________________________________\n",
      " Layer (type)                Output Shape              Param #   \n",
      "=================================================================\n",
      " my_first_layer (Dense)      (None, 64)                256       \n",
      "                                                                 \n",
      " my_flast_layer (Dense)      (None, 10)                650       \n",
      "                                                                 \n",
      "=================================================================\n",
      "Total params: 906\n",
      "Trainable params: 906\n",
      "Non-trainable params: 0\n",
      "_________________________________________________________________\n"
     ]
    }
   ],
   "source": [
    "model = keras.Sequential(name='my_example_model')\n",
    "model.add(layers.Dense(64, activation='relu',name='my_first_layer'))\n",
    "model.add(layers.Dense(10, activation='relu',name='my_flast_layer'))\n",
    "model.build((None,3))\n",
    "model.summary()"
   ]
  },
  {
   "cell_type": "markdown",
   "id": "90759fdb",
   "metadata": {},
   "source": [
    "build()메서드 없이 바로 가중치를 생성하는 방법 = 모델의 입력크기 미리 지정\n",
    "- input_shape 매개변수"
   ]
  },
  {
   "cell_type": "code",
   "execution_count": 68,
   "id": "8cd2d8f9",
   "metadata": {},
   "outputs": [],
   "source": [
    "model = keras.Sequential()\n",
    "model.add(keras.Input(shape=(3,)))\n",
    "model.add(layers.Dense(64,activation='relu'))"
   ]
  },
  {
   "cell_type": "code",
   "execution_count": 69,
   "id": "d5bbd464",
   "metadata": {},
   "outputs": [
    {
     "name": "stdout",
     "output_type": "stream",
     "text": [
      "Model: \"sequential_5\"\n",
      "_________________________________________________________________\n",
      " Layer (type)                Output Shape              Param #   \n",
      "=================================================================\n",
      " dense_31 (Dense)            (None, 64)                256       \n",
      "                                                                 \n",
      "=================================================================\n",
      "Total params: 256\n",
      "Trainable params: 256\n",
      "Non-trainable params: 0\n",
      "_________________________________________________________________\n"
     ]
    }
   ],
   "source": [
    "model.summary()"
   ]
  },
  {
   "cell_type": "markdown",
   "id": "79be8d91",
   "metadata": {},
   "source": [
    "functional model"
   ]
  },
  {
   "cell_type": "code",
   "execution_count": 70,
   "id": "7a61550b",
   "metadata": {},
   "outputs": [],
   "source": [
    "inputs = keras.Input(shape=(3,),name='my_input')\n",
    "features = layers.Dense(64, activation='relu')(inputs)\n",
    "outputs = layers.Dense(10, activation='softmax')(features)\n",
    "model = keras.Model(inputs=inputs,outputs=outputs)"
   ]
  },
  {
   "cell_type": "code",
   "execution_count": 71,
   "id": "17953471",
   "metadata": {},
   "outputs": [
    {
     "name": "stdout",
     "output_type": "stream",
     "text": [
      "Model: \"model_14\"\n",
      "_________________________________________________________________\n",
      " Layer (type)                Output Shape              Param #   \n",
      "=================================================================\n",
      " my_input (InputLayer)       [(None, 3)]               0         \n",
      "                                                                 \n",
      " dense_32 (Dense)            (None, 64)                256       \n",
      "                                                                 \n",
      " dense_33 (Dense)            (None, 10)                650       \n",
      "                                                                 \n",
      "=================================================================\n",
      "Total params: 906\n",
      "Trainable params: 906\n",
      "Non-trainable params: 0\n",
      "_________________________________________________________________\n"
     ]
    }
   ],
   "source": [
    "model.summary()"
   ]
  },
  {
   "cell_type": "markdown",
   "id": "e999e7e9",
   "metadata": {},
   "source": [
    "다중입력,다중출력 모델\n",
    "\n",
    "3가지 입력\n",
    "- 이슈 티켓의 제목(텍스트 입력)\n",
    "- 이슈 티켓의 텍스트 본문\n",
    "- 사용자가 추가한 태그(범주형 입력으로 여기에서는 원-핫인코딩되었다고 가정)\n",
    "\n",
    "2가지 출력\n",
    "- 이슈 티켓의 우선순위 점수로 0과1사이의 스칼라(sigmoid)\n",
    "- 이슈 티켓을 처리해야 할 부서(전체 부서 집합에 대한 softmax)"
   ]
  },
  {
   "cell_type": "code",
   "execution_count": 72,
   "id": "066c3e29",
   "metadata": {},
   "outputs": [],
   "source": [
    "#다중입력 다중출력 함수형 모델\n",
    "vocabulary_size = 10000 #덱스트 입력 크기(0과1로 이루어진 배열로 인코딩가능)\n",
    "num_tags = 100\n",
    "num_departments = 4\n",
    "\n",
    "title = keras.Input(shape=(vocabulary_size),name='title')\n",
    "text_body = keras.Input(shape=(vocabulary_size,), name='text_body')\n",
    "tags = keras.Input(shape=(num_tags,), name='tags')\n",
    "\n",
    "features = layers.Concatenate()([title, text_body, tags])#입력특성을 하나의 텐서 features로 연결\n",
    "features = layers.Dense(64,activation='relu')(features)#중간층을 적용해 입력 특성을 더 풍부한 표현으로 재결합\n",
    "\n",
    "priority = layers.Dense(1,activation='sigmoid',name='priority')(features)\n",
    "department = layers.Dense(num_departments, activation='softmax', name='department')(features)\n",
    "\n",
    "model = keras.Model(inputs=[title, text_body, tags],outputs=[priority,department])"
   ]
  },
  {
   "cell_type": "markdown",
   "id": "3588acda",
   "metadata": {},
   "source": [
    "모델 훈련하기 by 입력과 타깃 배열을 **리스트**로 전달하는 방식으로"
   ]
  },
  {
   "cell_type": "code",
   "execution_count": 73,
   "id": "24bc855d",
   "metadata": {},
   "outputs": [
    {
     "name": "stdout",
     "output_type": "stream",
     "text": [
      "40/40 [==============================] - 1s 12ms/step - loss: 25.1260 - priority_loss: 0.3326 - department_loss: 24.7934 - priority_mean_absolute_error: 0.5029 - department_accuracy: 0.3187\n",
      "40/40 [==============================] - 1s 4ms/step - loss: 33.7693 - priority_loss: 0.3387 - department_loss: 33.4306 - priority_mean_absolute_error: 0.5085 - department_accuracy: 0.5469\n",
      "40/40 [==============================] - 0s 4ms/step\n"
     ]
    }
   ],
   "source": [
    "import numpy as np\n",
    "\n",
    "num_samples = 1280\n",
    "\n",
    "title_data = np.random.randint(0,2,size=(num_samples, vocabulary_size))\n",
    "text_body_data = np.random.randint(0, 2, size=(num_samples, vocabulary_size))\n",
    "tags_data = np.random.randint(0, 2, size=(num_samples, num_tags))\n",
    "\n",
    "priority_data = np.random.random(size=(num_samples,1))\n",
    "department_data = np.random.randint(0, 2, size=(num_samples, num_departments))\n",
    "\n",
    "model.compile(optimizer='rmsprop',\n",
    "             loss = ['mean_squared_error', 'categorical_crossentropy'],\n",
    "             metrics=[['mean_absolute_error'],['accuracy']])\n",
    "model.fit([title_data, text_body_data, tags_data],\n",
    "         [priority_data, department_data],\n",
    "         epochs = 1)\n",
    "model.evaluate([title_data, text_body_data, tags_data],\n",
    "         [priority_data, department_data])\n",
    "priority_preds, department_preds = model.predict([\n",
    "    title_data, text_body_data, tags_data\n",
    "])"
   ]
  },
  {
   "cell_type": "markdown",
   "id": "6ada5516",
   "metadata": {},
   "source": [
    "모델 훈련 by 입력과 타깃 배열을 **딕셔너리**로 전달하는 방식으로"
   ]
  },
  {
   "cell_type": "code",
   "execution_count": 74,
   "id": "bfb5699c",
   "metadata": {},
   "outputs": [
    {
     "name": "stdout",
     "output_type": "stream",
     "text": [
      "40/40 [==============================] - 1s 12ms/step - loss: 31.1884 - priority_loss: 0.3387 - department_loss: 30.8497 - priority_mean_absolute_error: 0.5085 - department_accuracy: 0.2508\n",
      "40/40 [==============================] - 0s 4ms/step - loss: 37.4624 - priority_loss: 0.3387 - department_loss: 37.1237 - priority_mean_absolute_error: 0.5085 - department_accuracy: 0.5469\n",
      "40/40 [==============================] - 0s 4ms/step\n"
     ]
    }
   ],
   "source": [
    "model.compile(optimizer='rmsprop',\n",
    "             loss = {'priority':'mean_squared_error','department':'categorical_crossentropy'},\n",
    "             metrics={'priority':['mean_absolute_error'],'department':['accuracy']})\n",
    "model.fit({'title':title_data,\n",
    "          'text_body':text_body_data,\n",
    "          'tags':tags_data},\n",
    "         {'priority':priority_data,\n",
    "         'department':department_data}, epochs = 1)\n",
    "model.evaluate({'title':title_data,\n",
    "          'text_body':text_body_data,\n",
    "          'tags':tags_data},\n",
    "         {'priority':priority_data,\n",
    "         'department':department_data})\n",
    "priority_preds, department_preds = model.predict({'title':title_data,\n",
    "          'text_body':text_body_data,\n",
    "          'tags':tags_data})"
   ]
  },
  {
   "cell_type": "code",
   "execution_count": 75,
   "id": "545223c6",
   "metadata": {},
   "outputs": [],
   "source": [
    "#함수형 모델을 그래프로 그릴 수 있다.\n",
    "#keras.utils.plot_model(model,'ticket_classifier.png')"
   ]
  },
  {
   "cell_type": "code",
   "execution_count": 76,
   "id": "3b02b5dc",
   "metadata": {},
   "outputs": [],
   "source": [
    "#keras.utils.plot_model(model,'ticket_classifier_with_shape_info.png',show_shapes=True)"
   ]
  },
  {
   "cell_type": "markdown",
   "id": "7dd5c024",
   "metadata": {},
   "source": [
    "함수형 모델의 경우 모든 층의 리스트를 가지고있어 중간 특성을 재사용하는 모델을 또 만들 수 있다"
   ]
  },
  {
   "cell_type": "code",
   "execution_count": 77,
   "id": "3f01c49b",
   "metadata": {},
   "outputs": [],
   "source": [
    "features = model.layers[4].output\n",
    "difficulty = layers.Dense(3, activation=\"softmax\", name=\"difficulty\")(features)\n",
    "\n",
    "new_model = keras.Model(inputs=[title, text_body, tags],\n",
    "    outputs=[priority, department, difficulty])"
   ]
  },
  {
   "cell_type": "code",
   "execution_count": 78,
   "id": "b375815b",
   "metadata": {},
   "outputs": [],
   "source": [
    "#keras.utils.plot_model(new_model, \"updated_ticket_classifier.png\", show_shapes=True)"
   ]
  },
  {
   "cell_type": "markdown",
   "id": "753081b3",
   "metadata": {},
   "source": [
    "Model subcalssing"
   ]
  },
  {
   "cell_type": "markdown",
   "id": "bf78e521",
   "metadata": {},
   "source": [
    "Model 클래스 상속\n",
    "- \"____init____()\" 메서드에서 모델이 사용할 층을 정의\n",
    "- call() 메서드에서 앞서 만든 층을 사용하여 모델의 정방향 패스를 정의\n",
    "- 서브클래스의 객체를 만들고 데이터와 함께 호출하여 가중치를 만든다."
   ]
  },
  {
   "cell_type": "code",
   "execution_count": 38,
   "id": "5d13e068",
   "metadata": {},
   "outputs": [],
   "source": [
    "class CustomerTicketModel(keras.Model):\n",
    "\n",
    "    def __init__(self, num_departments):\n",
    "        super().__init__()\n",
    "        self.concat_layer = layers.Concatenate()\n",
    "        self.mixing_layer = layers.Dense(64, activation=\"relu\")\n",
    "        self.priority_scorer = layers.Dense(1, activation=\"sigmoid\")\n",
    "        self.department_classifier = layers.Dense(\n",
    "            num_departments, activation=\"softmax\")\n",
    "\n",
    "    def call(self, inputs):\n",
    "        title = inputs[\"title\"]\n",
    "        text_body = inputs[\"text_body\"]\n",
    "        tags = inputs[\"tags\"]\n",
    "\n",
    "        features = self.concat_layer([title, text_body, tags])\n",
    "        features = self.mixing_layer(features)\n",
    "        priority = self.priority_scorer(features)\n",
    "        department = self.department_classifier(features)\n",
    "        return priority, department"
   ]
  },
  {
   "cell_type": "code",
   "execution_count": 39,
   "id": "5f6f524b",
   "metadata": {},
   "outputs": [],
   "source": [
    "model = CustomerTicketModel(num_departments=4)\n",
    "\n",
    "priority, department = model(\n",
    "    {\"title\": title_data, \"text_body\": text_body_data, \"tags\": tags_data})"
   ]
  },
  {
   "cell_type": "code",
   "execution_count": 40,
   "id": "1d926839",
   "metadata": {},
   "outputs": [
    {
     "name": "stdout",
     "output_type": "stream",
     "text": [
      "40/40 [==============================] - 1s 13ms/step - loss: 24.9774 - output_1_loss: 0.3256 - output_2_loss: 24.6518 - output_1_mean_absolute_error: 0.4891 - output_2_accuracy: 0.2641\n",
      "40/40 [==============================] - 0s 4ms/step - loss: 18.5848 - output_1_loss: 0.3321 - output_2_loss: 18.2528 - output_1_mean_absolute_error: 0.4955 - output_2_accuracy: 0.1805\n",
      "40/40 [==============================] - 0s 4ms/step\n"
     ]
    }
   ],
   "source": [
    "model.compile(optimizer=\"rmsprop\",\n",
    "              loss=[\"mean_squared_error\", \"categorical_crossentropy\"],\n",
    "              metrics=[[\"mean_absolute_error\"], [\"accuracy\"]])\n",
    "model.fit({\"title\": title_data,\n",
    "           \"text_body\": text_body_data,\n",
    "           \"tags\": tags_data},\n",
    "          [priority_data, department_data],\n",
    "          epochs=1)\n",
    "model.evaluate({\"title\": title_data,\n",
    "                \"text_body\": text_body_data,\n",
    "                \"tags\": tags_data},\n",
    "               [priority_data, department_data])\n",
    "priority_preds, department_preds = model.predict({\"title\": title_data,\n",
    "                                                  \"text_body\": text_body_data,\n",
    "                                                  \"tags\": tags_data})"
   ]
  },
  {
   "cell_type": "markdown",
   "id": "f343c026",
   "metadata": {},
   "source": [
    "여러방식을 혼합하여 사용하기"
   ]
  },
  {
   "cell_type": "code",
   "execution_count": 41,
   "id": "7095bed8",
   "metadata": {},
   "outputs": [],
   "source": [
    "#서브클래싱한 모델을 포함하는 함수형 모델\n",
    "class Classifier(keras.Model):\n",
    "\n",
    "    def __init__(self, num_classes=2):\n",
    "        super().__init__()\n",
    "        if num_classes == 2:\n",
    "            num_units = 1\n",
    "            activation = \"sigmoid\"\n",
    "        else:\n",
    "            num_units = num_classes\n",
    "            activation = \"softmax\"\n",
    "        self.dense = layers.Dense(num_units, activation=activation)\n",
    "\n",
    "    def call(self, inputs):\n",
    "        return self.dense(inputs)\n",
    "\n",
    "inputs = keras.Input(shape=(3,))\n",
    "features = layers.Dense(64, activation=\"relu\")(inputs)\n",
    "outputs = Classifier(num_classes=10)(features)\n",
    "model = keras.Model(inputs=inputs, outputs=outputs)"
   ]
  },
  {
   "cell_type": "code",
   "execution_count": 42,
   "id": "e5fcc0f3",
   "metadata": {},
   "outputs": [],
   "source": [
    "#함수형 모델을 포함하는 서브클래싱 모델\n",
    "inputs = keras.Input(shape=(64,))\n",
    "outputs = layers.Dense(1, activation=\"sigmoid\")(inputs)\n",
    "binary_classifier = keras.Model(inputs=inputs, outputs=outputs)\n",
    "\n",
    "class MyModel(keras.Model):\n",
    "\n",
    "    def __init__(self, num_classes=2):\n",
    "        super().__init__()\n",
    "        self.dense = layers.Dense(64, activation=\"relu\")\n",
    "        self.classifier = binary_classifier\n",
    "\n",
    "    def call(self, inputs):\n",
    "        features = self.dense(inputs)\n",
    "        return self.classifier(features)\n",
    "\n",
    "model = MyModel()"
   ]
  },
  {
   "cell_type": "markdown",
   "id": "9dacb238",
   "metadata": {},
   "source": [
    "---"
   ]
  },
  {
   "cell_type": "code",
   "execution_count": 54,
   "id": "3995a7c0",
   "metadata": {},
   "outputs": [
    {
     "name": "stdout",
     "output_type": "stream",
     "text": [
      "Epoch 1/3\n",
      "1563/1563 [==============================] - 13s 8ms/step - loss: 0.2937 - accuracy: 0.9123 - val_loss: 0.1430 - val_accuracy: 0.9580\n",
      "Epoch 2/3\n",
      "1563/1563 [==============================] - 13s 8ms/step - loss: 0.1605 - accuracy: 0.9544 - val_loss: 0.1142 - val_accuracy: 0.9672\n",
      "Epoch 3/3\n",
      "1563/1563 [==============================] - 13s 8ms/step - loss: 0.1312 - accuracy: 0.9630 - val_loss: 0.1050 - val_accuracy: 0.9714\n",
      "313/313 [==============================] - 1s 3ms/step - loss: 0.0937 - accuracy: 0.9737\n",
      "313/313 [==============================] - 1s 3ms/step\n"
     ]
    }
   ],
   "source": [
    "from tensorflow.keras.datasets import mnist\n",
    "\n",
    "def get_mnist_model():\n",
    "    inputs = keras.Input(shape=(28 * 28,))\n",
    "    features = layers.Dense(512, activation=\"relu\")(inputs)\n",
    "    features = layers.Dropout(0.5)(features)\n",
    "    outputs = layers.Dense(10, activation=\"softmax\")(features)\n",
    "    model = keras.Model(inputs, outputs)\n",
    "    return model\n",
    "\n",
    "(images, labels), (test_images, test_labels) = mnist.load_data()\n",
    "images = images.reshape((60000, 28 * 28)).astype(\"float32\") / 255\n",
    "test_images = test_images.reshape((10000, 28 * 28)).astype(\"float32\") / 255\n",
    "train_images, val_images = images[10000:], images[:10000]\n",
    "train_labels, val_labels = labels[10000:], labels[:10000]\n",
    "\n",
    "model = get_mnist_model()\n",
    "model.compile(optimizer=\"rmsprop\",\n",
    "              loss=\"sparse_categorical_crossentropy\",\n",
    "              metrics=[\"accuracy\"])\n",
    "history = model.fit(train_images, train_labels,\n",
    "          epochs=3,\n",
    "          validation_data=(val_images, val_labels))\n",
    "test_metrics = model.evaluate(test_images, test_labels)\n",
    "predictions = model.predict(test_images)"
   ]
  },
  {
   "cell_type": "code",
   "execution_count": 55,
   "id": "b22b6322",
   "metadata": {},
   "outputs": [
    {
     "data": {
      "image/png": "[encoded data removed]",
      "text/plain": [
       "<Figure size 432x288 with 1 Axes>"
      ]
     },
     "metadata": {
      "needs_background": "light"
     },
     "output_type": "display_data"
    }
   ],
   "source": [
    "plt.plot(history.history['loss'], label='train_loss')\n",
    "plt.plot(history.history['val_loss'], label='val_loss')\n",
    "plt.xlabel('Epochs')\n",
    "plt.ylabel('Loss')\n",
    "plt.title('Training and Validation Loss')\n",
    "plt.legend()\n",
    "plt.show()"
   ]
  },
  {
   "cell_type": "code",
   "execution_count": 56,
   "id": "448d3ff5",
   "metadata": {},
   "outputs": [
    {
     "data": {
      "image/png": "[encoded data removed]",
      "text/plain": [
       "<Figure size 432x288 with 1 Axes>"
      ]
     },
     "metadata": {
      "needs_background": "light"
     },
     "output_type": "display_data"
    }
   ],
   "source": [
    "plt.plot(history.history['accuracy'], label='Train Accuracy')\n",
    "plt.plot(history.history['val_accuracy'], label='Validation Accuracy')\n",
    "plt.xlabel('Epochs')\n",
    "plt.ylabel('Accuracy')\n",
    "plt.title('Training and Validation Accuracy')\n",
    "plt.legend()\n",
    "\n",
    "plt.show()"
   ]
  },
  {
   "cell_type": "markdown",
   "id": "e22a5918",
   "metadata": {},
   "source": [
    "## 사용자 정의 지표"
   ]
  },
  {
   "cell_type": "code",
   "execution_count": 45,
   "id": "195d8981",
   "metadata": {},
   "outputs": [],
   "source": [
    "import tensorflow as tf\n",
    "\n",
    "class RootMeanSquaredError(keras.metrics.Metric):\n",
    "\n",
    "    def __init__(self, name=\"rmse\", **kwargs):\n",
    "        super().__init__(name=name, **kwargs)\n",
    "        self.mse_sum = self.add_weight(name=\"mse_sum\", initializer=\"zeros\")#MSE의 합계를 저장할 변수\n",
    "        self.total_samples = self.add_weight(\n",
    "            name=\"total_samples\", initializer=\"zeros\", dtype=\"int32\")# 총 샘플 수를 저장할 변수\n",
    "\n",
    "    def update_state(self, y_true, y_pred, sample_weight=None):\n",
    "        y_true = tf.one_hot(y_true, depth=tf.shape(y_pred)[1])#실제값을 one-hot인코딩\n",
    "        mse = tf.reduce_sum(tf.square(y_true - y_pred))#오차제곱합계\n",
    "        self.mse_sum.assign_add(mse)#현재 배치의 mse합계 추가\n",
    "        num_samples = tf.shape(y_pred)[0] #현재 배치의 샘플 수 계산\n",
    "        self.total_samples.assign_add(num_samples) # 추가\n",
    "\n",
    "    def result(self):#현재까지의 mse합계와 총 샘플 수로 RMSE계산\n",
    "        return tf.sqrt(self.mse_sum / tf.cast(self.total_samples, tf.float32))\n",
    "\n",
    "    def reset_state(self):\n",
    "        self.mse_sum.assign(0.)#0으로 mse_sum을 초기화\n",
    "        self.total_samples.assign(0)#total_samples 0으로 초기화"
   ]
  },
  {
   "cell_type": "code",
   "execution_count": 46,
   "id": "ca751821",
   "metadata": {},
   "outputs": [
    {
     "name": "stdout",
     "output_type": "stream",
     "text": [
      "Epoch 1/3\n",
      "1563/1563 [==============================] - 15s 9ms/step - loss: 0.2943 - accuracy: 0.9122 - rmse: 7.1764 - val_loss: 0.1527 - val_accuracy: 0.9551 - val_rmse: 7.3576\n",
      "Epoch 2/3\n",
      "1563/1563 [==============================] - 13s 8ms/step - loss: 0.1591 - accuracy: 0.9529 - rmse: 7.3503 - val_loss: 0.1121 - val_accuracy: 0.9687 - val_rmse: 7.4058\n",
      "Epoch 3/3\n",
      "1563/1563 [==============================] - 13s 8ms/step - loss: 0.1297 - accuracy: 0.9629 - rmse: 7.3818 - val_loss: 0.1082 - val_accuracy: 0.9716 - val_rmse: 7.4207\n",
      "313/313 [==============================] - 1s 4ms/step - loss: 0.1016 - accuracy: 0.9711 - rmse: 7.4340\n"
     ]
    }
   ],
   "source": [
    "model = get_mnist_model()\n",
    "model.compile(optimizer=\"rmsprop\",\n",
    "              loss=\"sparse_categorical_crossentropy\",\n",
    "              metrics=[\"accuracy\", RootMeanSquaredError()])\n",
    "model.fit(train_images, train_labels,\n",
    "          epochs=3,\n",
    "          validation_data=(val_images, val_labels))\n",
    "test_metrics = model.evaluate(test_images, test_labels)\n",
    "#정의한 평가 지표로 모델 학습하기"
   ]
  },
  {
   "cell_type": "markdown",
   "id": "3bfa86f7",
   "metadata": {},
   "source": [
    "---"
   ]
  },
  {
   "cell_type": "markdown",
   "id": "8093d25b",
   "metadata": {},
   "source": [
    "콜백 함수를 통해서 신경망 모델을 훈련할 때, 특정 시점이나 조건에 따라 원하는 작업을 수행하거나 모델의 동작을 제어할 수 있다."
   ]
  },
  {
   "cell_type": "code",
   "execution_count": 47,
   "id": "f3ba91c2",
   "metadata": {},
   "outputs": [
    {
     "name": "stdout",
     "output_type": "stream",
     "text": [
      "Epoch 1/10\n",
      "1563/1563 [==============================] - 14s 8ms/step - loss: 0.2961 - accuracy: 0.9108 - val_loss: 0.1452 - val_accuracy: 0.9585\n",
      "Epoch 2/10\n",
      "1563/1563 [==============================] - 13s 8ms/step - loss: 0.1580 - accuracy: 0.9542 - val_loss: 0.1156 - val_accuracy: 0.9684\n",
      "Epoch 3/10\n",
      "1563/1563 [==============================] - 13s 8ms/step - loss: 0.1312 - accuracy: 0.9626 - val_loss: 0.1035 - val_accuracy: 0.9717\n",
      "Epoch 4/10\n",
      "1563/1563 [==============================] - 13s 8ms/step - loss: 0.1138 - accuracy: 0.9692 - val_loss: 0.0983 - val_accuracy: 0.9753\n",
      "Epoch 5/10\n",
      "1563/1563 [==============================] - 12s 8ms/step - loss: 0.1043 - accuracy: 0.9722 - val_loss: 0.0901 - val_accuracy: 0.9766\n",
      "Epoch 6/10\n",
      "1563/1563 [==============================] - 13s 8ms/step - loss: 0.0937 - accuracy: 0.9740 - val_loss: 0.0914 - val_accuracy: 0.9785\n",
      "Epoch 7/10\n",
      "1563/1563 [==============================] - 13s 8ms/step - loss: 0.0856 - accuracy: 0.9763 - val_loss: 0.0886 - val_accuracy: 0.9788\n",
      "Epoch 8/10\n",
      "1563/1563 [==============================] - 13s 8ms/step - loss: 0.0808 - accuracy: 0.9787 - val_loss: 0.0938 - val_accuracy: 0.9792\n",
      "Epoch 9/10\n",
      "1563/1563 [==============================] - 12s 8ms/step - loss: 0.0741 - accuracy: 0.9802 - val_loss: 0.0862 - val_accuracy: 0.9799\n",
      "Epoch 10/10\n",
      "1563/1563 [==============================] - 12s 8ms/step - loss: 0.0717 - accuracy: 0.9815 - val_loss: 0.0915 - val_accuracy: 0.9806\n"
     ]
    },
    {
     "data": {
      "text/plain": [
       "<keras.callbacks.History at 0x209909e5460>"
      ]
     },
     "execution_count": 47,
     "metadata": {},
     "output_type": "execute_result"
    }
   ],
   "source": [
    "# 모델 훈련 중에 사용할 콜백 함수 목록 정의\n",
    "callbacks_list = [\n",
    "    keras.callbacks.EarlyStopping( \n",
    "        monitor=\"val_accuracy\",# 검증 정확도 모니터링\n",
    "        patience=2, # 훈련이 중지되기 전에 성능 향상이 없을 수 있는 에포크 수\n",
    "    ),\n",
    "    #모델의 가중치 훈련 저장\n",
    "    keras.callbacks.ModelCheckpoint(\n",
    "        filepath=\"checkpoint_path.h5\",#가중치 저장 파일 경로\n",
    "        monitor=\"val_loss\",#검증 손실\n",
    "        save_best_only=True,#모니터링 지표(검증손실)에 따라 최상의 모델만 저장\n",
    "    )\n",
    "]\n",
    "model = get_mnist_model()\n",
    "model.compile(optimizer=\"rmsprop\",\n",
    "              loss=\"sparse_categorical_crossentropy\",\n",
    "              metrics=[\"accuracy\"])\n",
    "model.fit(train_images, train_labels,\n",
    "          epochs=10,\n",
    "          callbacks=callbacks_list,\n",
    "          validation_data=(val_images, val_labels))"
   ]
  },
  {
   "cell_type": "code",
   "execution_count": 48,
   "id": "314ff85c",
   "metadata": {},
   "outputs": [],
   "source": [
    "model = keras.models.load_model(\"checkpoint_path.h5\")"
   ]
  },
  {
   "cell_type": "markdown",
   "id": "0dd68ecc",
   "metadata": {},
   "source": [
    "### 사용자 정의 콜백"
   ]
  },
  {
   "cell_type": "markdown",
   "id": "ef52bc5d",
   "metadata": {},
   "source": [
    "해당 콜백은 각 배치와 에포크의 손실 값을 추적하고 그래프로 시각화하여 저장하는 기능을 가진 코드"
   ]
  },
  {
   "cell_type": "code",
   "execution_count": 49,
   "id": "b8d28df5",
   "metadata": {},
   "outputs": [],
   "source": [
    "from matplotlib import pyplot as plt\n",
    "\n",
    "class LossHistory(keras.callbacks.Callback):\n",
    "    def on_train_begin(self, logs):\n",
    "        self.per_batch_losses = []#각 배치의 손실 값을 저장할 리스트\n",
    "\n",
    "    def on_batch_end(self, batch, logs):\n",
    "        self.per_batch_losses.append(logs.get(\"loss\"))#각 배치의 손실값을 리스트에 추가\n",
    "\n",
    "    def on_epoch_end(self, epoch, logs):\n",
    "        plt.clf()#그래프 초기화\n",
    "        # 각 배치의 손실 값에 대한 그래프 그리기\n",
    "        plt.plot(range(len(self.per_batch_losses)), self.per_batch_losses,\n",
    "                 label=\"Training loss for each batch\")\n",
    "        plt.xlabel(f\"Batch (epoch {epoch})\")\n",
    "        plt.ylabel(\"Loss\")\n",
    "        plt.legend()\n",
    "        plt.savefig(f\"plot_at_epoch_{epoch}\")\n",
    "        self.per_batch_losses = []"
   ]
  },
  {
   "cell_type": "code",
   "execution_count": 50,
   "id": "8f5c1677",
   "metadata": {},
   "outputs": [
    {
     "name": "stdout",
     "output_type": "stream",
     "text": [
      "Epoch 1/10\n",
      "1563/1563 [==============================] - 14s 8ms/step - loss: 0.2927 - accuracy: 0.9125 - val_loss: 0.1447 - val_accuracy: 0.9596\n",
      "Epoch 2/10\n",
      "1563/1563 [==============================] - 13s 8ms/step - loss: 0.1564 - accuracy: 0.9548 - val_loss: 0.1111 - val_accuracy: 0.9691\n",
      "Epoch 3/10\n",
      "1563/1563 [==============================] - 13s 9ms/step - loss: 0.1290 - accuracy: 0.9629 - val_loss: 0.1044 - val_accuracy: 0.9708\n",
      "Epoch 4/10\n",
      "1563/1563 [==============================] - 13s 8ms/step - loss: 0.1127 - accuracy: 0.9686 - val_loss: 0.0946 - val_accuracy: 0.9753\n",
      "Epoch 5/10\n",
      "1563/1563 [==============================] - 13s 8ms/step - loss: 0.1044 - accuracy: 0.9720 - val_loss: 0.1008 - val_accuracy: 0.9745\n",
      "Epoch 6/10\n",
      "1563/1563 [==============================] - 12s 8ms/step - loss: 0.0958 - accuracy: 0.9741 - val_loss: 0.0927 - val_accuracy: 0.9773\n",
      "Epoch 7/10\n",
      "1563/1563 [==============================] - 13s 8ms/step - loss: 0.0857 - accuracy: 0.9766 - val_loss: 0.0953 - val_accuracy: 0.9784\n",
      "Epoch 8/10\n",
      "1563/1563 [==============================] - 12s 8ms/step - loss: 0.0817 - accuracy: 0.9780 - val_loss: 0.0868 - val_accuracy: 0.9794\n",
      "Epoch 9/10\n",
      "1563/1563 [==============================] - 13s 8ms/step - loss: 0.0778 - accuracy: 0.9791 - val_loss: 0.0915 - val_accuracy: 0.9791\n",
      "Epoch 10/10\n",
      "1563/1563 [==============================] - 13s 8ms/step - loss: 0.0759 - accuracy: 0.9795 - val_loss: 0.0918 - val_accuracy: 0.9801\n"
     ]
    },
    {
     "data": {
      "text/plain": [
       "<keras.callbacks.History at 0x209905dcdf0>"
      ]
     },
     "execution_count": 50,
     "metadata": {},
     "output_type": "execute_result"
    },
    {
     "data": {
      "image/png": "[encoded data removed]",
      "text/plain": [
       "<Figure size 432x288 with 1 Axes>"
      ]
     },
     "metadata": {
      "needs_background": "light"
     },
     "output_type": "display_data"
    }
   ],
   "source": [
    "model = get_mnist_model()\n",
    "model.compile(optimizer=\"rmsprop\",\n",
    "              loss=\"sparse_categorical_crossentropy\",\n",
    "              metrics=[\"accuracy\"])\n",
    "model.fit(train_images, train_labels,\n",
    "          epochs=10,\n",
    "          callbacks=[LossHistory()],\n",
    "          validation_data=(val_images, val_labels))"
   ]
  },
  {
   "cell_type": "markdown",
   "id": "66d0c43d",
   "metadata": {},
   "source": [
    "## 회고"
   ]
  },
  {
   "cell_type": "markdown",
   "id": "d5b8c7dc",
   "metadata": {},
   "source": [
    "직접 짜보고 층을 쌓아볼 수 있어서 딥러닝 모델의 아키텍처에 대해서 흐름과 함께 이해할 수 있었습니다. 또한 클래스를 직접 짜보면서 사용자가 원하는 코드를 구성하는 방법을 익힐 수 있었습니다."
   ]
  },
  {
   "cell_type": "code",
   "execution_count": null,
   "id": "27db8ba1",
   "metadata": {},
   "outputs": [],
   "source": []
  }
 ],
 "metadata": {
  "kernelspec": {
   "display_name": "Python 3 (ipykernel)",
   "language": "python",
   "name": "python3"
  },
  "language_info": {
   "codemirror_mode": {
    "name": "ipython",
    "version": 3
   },
   "file_extension": ".py",
   "mimetype": "text/x-python",
   "name": "python",
   "nbconvert_exporter": "python",
   "pygments_lexer": "ipython3",
   "version": "3.9.7"
  }
 },
 "nbformat": 4,
 "nbformat_minor": 5
}
